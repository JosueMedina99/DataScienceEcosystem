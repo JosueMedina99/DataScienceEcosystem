{
 "cells": [
  {
   "cell_type": "markdown",
   "id": "91f82668",
   "metadata": {},
   "source": [
    "# Data Science Tools and Ecosystem"
   ]
  },
  {
   "cell_type": "markdown",
   "id": "1570d90c",
   "metadata": {},
   "source": [
    "In this notebook, datascience tools and Escosystems are summarized"
   ]
  },
  {
   "cell_type": "markdown",
   "id": "f0556730",
   "metadata": {},
   "source": [
    "###### Objectives\n",
    "* List popular languages for dts\n",
    "* List popular libraries in dts \n",
    "* Create a table of popular IDE's\n",
    "* Write examples of arithmetic expressions \n",
    "* Share knowledge with others"
   ]
  },
  {
   "cell_type": "markdown",
   "id": "c7ed6d9a",
   "metadata": {},
   "source": [
    "Some popular languages of data science are: \n",
    "1. Python \n",
    "2. R\n",
    "3. Julia"
   ]
  },
  {
   "cell_type": "markdown",
   "id": "9ef00f3c",
   "metadata": {},
   "source": [
    "Some of the commonly used libraries in data science are (python language):\n",
    "1. Pandas \n",
    "2. Numpy \n",
    "3. Matplotlib \n",
    "4. Seaborn \n",
    "5. Sklearn "
   ]
  },
  {
   "cell_type": "code",
   "execution_count": 2,
   "id": "b12f10e2",
   "metadata": {},
   "outputs": [
    {
     "data": {
      "text/html": [
       "<div>\n",
       "<style scoped>\n",
       "    .dataframe tbody tr th:only-of-type {\n",
       "        vertical-align: middle;\n",
       "    }\n",
       "\n",
       "    .dataframe tbody tr th {\n",
       "        vertical-align: top;\n",
       "    }\n",
       "\n",
       "    .dataframe thead th {\n",
       "        text-align: right;\n",
       "    }\n",
       "</style>\n",
       "<table border=\"1\" class=\"dataframe\">\n",
       "  <thead>\n",
       "    <tr style=\"text-align: right;\">\n",
       "      <th></th>\n",
       "      <th>Data Science tools</th>\n",
       "    </tr>\n",
       "  </thead>\n",
       "  <tbody>\n",
       "    <tr>\n",
       "      <th>0</th>\n",
       "      <td>VisualStudio</td>\n",
       "    </tr>\n",
       "    <tr>\n",
       "      <th>1</th>\n",
       "      <td>Jupyter</td>\n",
       "    </tr>\n",
       "    <tr>\n",
       "      <th>2</th>\n",
       "      <td>Spyder</td>\n",
       "    </tr>\n",
       "    <tr>\n",
       "      <th>3</th>\n",
       "      <td>RStudio</td>\n",
       "    </tr>\n",
       "  </tbody>\n",
       "</table>\n",
       "</div>"
      ],
      "text/plain": [
       "  Data Science tools\n",
       "0       VisualStudio\n",
       "1            Jupyter\n",
       "2             Spyder\n",
       "3            RStudio"
      ]
     },
     "execution_count": 2,
     "metadata": {},
     "output_type": "execute_result"
    }
   ],
   "source": [
    "#Example using code\n",
    "import pandas as pd \n",
    "list1 = 'VisualStudio Jupyter Spyder RStudio'.split()\n",
    "fr = pd.DataFrame(list1)\n",
    "fr.columns = ['Data Science tools']\n",
    "fr"
   ]
  },
  {
   "cell_type": "markdown",
   "id": "a0ea925c",
   "metadata": {},
   "source": [
    "### THe following uses no code, just markdow"
   ]
  },
  {
   "cell_type": "markdown",
   "id": "e3d2b3ca",
   "metadata": {},
   "source": [
    "| Data Science tools |\n",
    "| --- |\n",
    "| Visual Studio |\n",
    "| Jupyter |\n",
    "|Spyder| \n",
    "|RStudio|\n",
    "\n"
   ]
  },
  {
   "cell_type": "markdown",
   "id": "703fa9ee",
   "metadata": {},
   "source": [
    "### Bellow are a few examples of evaluating arithmetic expressions in python"
   ]
  },
  {
   "cell_type": "code",
   "execution_count": 4,
   "id": "39e1afe9",
   "metadata": {},
   "outputs": [
    {
     "data": {
      "text/plain": [
       "17"
      ]
     },
     "execution_count": 4,
     "metadata": {},
     "output_type": "execute_result"
    }
   ],
   "source": [
    "#This is a simple arithmetic expression to multiply and add numbers\n",
    "(3*4)+5"
   ]
  },
  {
   "cell_type": "code",
   "execution_count": 10,
   "id": "11ef46b8",
   "metadata": {},
   "outputs": [
    {
     "data": {
      "text/plain": [
       "'200 minutes to hours are 3.3333333333333335 hours'"
      ]
     },
     "execution_count": 10,
     "metadata": {},
     "output_type": "execute_result"
    }
   ],
   "source": [
    "#This will convert 200 minutes to hours by dividing by 60\n",
    "def mintoh(x):\n",
    "    st = x/60\n",
    "    return st\n",
    "minu = 200\n",
    "f'{minu} minutes to hours are {mintoh(minu)} hours'"
   ]
  },
  {
   "cell_type": "markdown",
   "id": "46cc3851",
   "metadata": {},
   "source": [
    "## Author \n",
    "Josue Medina Campero"
   ]
  },
  {
   "cell_type": "code",
   "execution_count": null,
   "id": "b3e6655c",
   "metadata": {},
   "outputs": [],
   "source": []
  }
 ],
 "metadata": {
  "kernelspec": {
   "display_name": "Python 3 (ipykernel)",
   "language": "python",
   "name": "python3"
  },
  "language_info": {
   "codemirror_mode": {
    "name": "ipython",
    "version": 3
   },
   "file_extension": ".py",
   "mimetype": "text/x-python",
   "name": "python",
   "nbconvert_exporter": "python",
   "pygments_lexer": "ipython3",
   "version": "3.11.1"
  }
 },
 "nbformat": 4,
 "nbformat_minor": 5
}
